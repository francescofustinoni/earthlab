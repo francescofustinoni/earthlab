{
 "cells": [
  {
   "cell_type": "code",
   "execution_count": 3,
   "id": "3dfdada9",
   "metadata": {},
   "outputs": [
    {
     "data": {
      "text/plain": [
       "'https://data.colorado.gov/resource/tv8u-hswn.json?$where=age%20between%2020%20and%2025%20and%20year%20between%202020%20and%202025&county=Boulder&$select=year,age,femalepopulation'"
      ]
     },
     "execution_count": 3,
     "metadata": {},
     "output_type": "execute_result"
    }
   ],
   "source": [
    "import matplotlib.pyplot as plt\n",
    "import pandas as pd\n",
    "\n",
    "url = \"https://data.colorado.gov/resource/tv8u-hswn.json?$where=age between 20 and 25 and year between 2020 and 2025&county=Boulder&$select=year,age,femalepopulation\"\n",
    "url = url.replace(' ', '%20')\n",
    "url"
   ]
  },
  {
   "cell_type": "code",
   "execution_count": 4,
   "id": "16416853",
   "metadata": {},
   "outputs": [
    {
     "data": {
      "text/html": [
       "<div>\n",
       "<style scoped>\n",
       "    .dataframe tbody tr th:only-of-type {\n",
       "        vertical-align: middle;\n",
       "    }\n",
       "\n",
       "    .dataframe tbody tr th {\n",
       "        vertical-align: top;\n",
       "    }\n",
       "\n",
       "    .dataframe thead th {\n",
       "        text-align: right;\n",
       "    }\n",
       "</style>\n",
       "<table border=\"1\" class=\"dataframe\">\n",
       "  <thead>\n",
       "    <tr style=\"text-align: right;\">\n",
       "      <th></th>\n",
       "      <th>year</th>\n",
       "      <th>age</th>\n",
       "      <th>femalepopulation</th>\n",
       "    </tr>\n",
       "  </thead>\n",
       "  <tbody>\n",
       "    <tr>\n",
       "      <th>0</th>\n",
       "      <td>2024</td>\n",
       "      <td>20</td>\n",
       "      <td>3872</td>\n",
       "    </tr>\n",
       "    <tr>\n",
       "      <th>1</th>\n",
       "      <td>2024</td>\n",
       "      <td>21</td>\n",
       "      <td>3826</td>\n",
       "    </tr>\n",
       "    <tr>\n",
       "      <th>2</th>\n",
       "      <td>2024</td>\n",
       "      <td>23</td>\n",
       "      <td>2623</td>\n",
       "    </tr>\n",
       "    <tr>\n",
       "      <th>3</th>\n",
       "      <td>2025</td>\n",
       "      <td>23</td>\n",
       "      <td>2744</td>\n",
       "    </tr>\n",
       "    <tr>\n",
       "      <th>4</th>\n",
       "      <td>2022</td>\n",
       "      <td>21</td>\n",
       "      <td>3639</td>\n",
       "    </tr>\n",
       "  </tbody>\n",
       "</table>\n",
       "</div>"
      ],
      "text/plain": [
       "   year  age  femalepopulation\n",
       "0  2024   20              3872\n",
       "1  2024   21              3826\n",
       "2  2024   23              2623\n",
       "3  2025   23              2744\n",
       "4  2022   21              3639"
      ]
     },
     "execution_count": 4,
     "metadata": {},
     "output_type": "execute_result"
    }
   ],
   "source": [
    "dem_data_20_25_female = pd.read_json(url)\n",
    "dem_data_20_25_female.head()"
   ]
  },
  {
   "cell_type": "code",
   "execution_count": 5,
   "id": "5017fc12",
   "metadata": {},
   "outputs": [
    {
     "data": {
      "text/html": [
       "<div>\n",
       "<style scoped>\n",
       "    .dataframe tbody tr th:only-of-type {\n",
       "        vertical-align: middle;\n",
       "    }\n",
       "\n",
       "    .dataframe tbody tr th {\n",
       "        vertical-align: top;\n",
       "    }\n",
       "\n",
       "    .dataframe thead th {\n",
       "        text-align: right;\n",
       "    }\n",
       "</style>\n",
       "<table border=\"1\" class=\"dataframe\">\n",
       "  <thead>\n",
       "    <tr style=\"text-align: right;\">\n",
       "      <th></th>\n",
       "      <th>age</th>\n",
       "      <th>femalepopulation</th>\n",
       "    </tr>\n",
       "    <tr>\n",
       "      <th>year</th>\n",
       "      <th></th>\n",
       "      <th></th>\n",
       "    </tr>\n",
       "  </thead>\n",
       "  <tbody>\n",
       "    <tr>\n",
       "      <th>2024</th>\n",
       "      <td>20</td>\n",
       "      <td>3872</td>\n",
       "    </tr>\n",
       "    <tr>\n",
       "      <th>2024</th>\n",
       "      <td>21</td>\n",
       "      <td>3826</td>\n",
       "    </tr>\n",
       "    <tr>\n",
       "      <th>2024</th>\n",
       "      <td>23</td>\n",
       "      <td>2623</td>\n",
       "    </tr>\n",
       "    <tr>\n",
       "      <th>2025</th>\n",
       "      <td>23</td>\n",
       "      <td>2744</td>\n",
       "    </tr>\n",
       "    <tr>\n",
       "      <th>2022</th>\n",
       "      <td>21</td>\n",
       "      <td>3639</td>\n",
       "    </tr>\n",
       "  </tbody>\n",
       "</table>\n",
       "</div>"
      ],
      "text/plain": [
       "      age  femalepopulation\n",
       "year                       \n",
       "2024   20              3872\n",
       "2024   21              3826\n",
       "2024   23              2623\n",
       "2025   23              2744\n",
       "2022   21              3639"
      ]
     },
     "execution_count": 5,
     "metadata": {},
     "output_type": "execute_result"
    }
   ],
   "source": [
    "dem_data_20_25_female = dem_data_20_25_female.set_index('year')\n",
    "dem_data_20_25_female.head()"
   ]
  },
  {
   "cell_type": "code",
   "execution_count": 6,
   "id": "027cb26e",
   "metadata": {},
   "outputs": [
    {
     "data": {
      "text/html": [
       "<div>\n",
       "<style scoped>\n",
       "    .dataframe tbody tr th:only-of-type {\n",
       "        vertical-align: middle;\n",
       "    }\n",
       "\n",
       "    .dataframe tbody tr th {\n",
       "        vertical-align: top;\n",
       "    }\n",
       "\n",
       "    .dataframe thead th {\n",
       "        text-align: right;\n",
       "    }\n",
       "</style>\n",
       "<table border=\"1\" class=\"dataframe\">\n",
       "  <thead>\n",
       "    <tr style=\"text-align: right;\">\n",
       "      <th>age</th>\n",
       "      <th>20</th>\n",
       "      <th>21</th>\n",
       "      <th>22</th>\n",
       "      <th>23</th>\n",
       "      <th>24</th>\n",
       "      <th>25</th>\n",
       "    </tr>\n",
       "    <tr>\n",
       "      <th>year</th>\n",
       "      <th></th>\n",
       "      <th></th>\n",
       "      <th></th>\n",
       "      <th></th>\n",
       "      <th></th>\n",
       "      <th></th>\n",
       "    </tr>\n",
       "  </thead>\n",
       "  <tbody>\n",
       "    <tr>\n",
       "      <th>2020</th>\n",
       "      <td>3830.0</td>\n",
       "      <td>3647.0</td>\n",
       "      <td>3290.0</td>\n",
       "      <td>2610.0</td>\n",
       "      <td>2268.0</td>\n",
       "      <td>2173.0</td>\n",
       "    </tr>\n",
       "    <tr>\n",
       "      <th>2021</th>\n",
       "      <td>3750.0</td>\n",
       "      <td>3681.0</td>\n",
       "      <td>3201.0</td>\n",
       "      <td>2676.0</td>\n",
       "      <td>2194.0</td>\n",
       "      <td>2240.0</td>\n",
       "    </tr>\n",
       "    <tr>\n",
       "      <th>2022</th>\n",
       "      <td>3876.0</td>\n",
       "      <td>3639.0</td>\n",
       "      <td>3267.0</td>\n",
       "      <td>2610.0</td>\n",
       "      <td>2276.0</td>\n",
       "      <td>2185.0</td>\n",
       "    </tr>\n",
       "    <tr>\n",
       "      <th>2023</th>\n",
       "      <td>3941.0</td>\n",
       "      <td>3753.0</td>\n",
       "      <td>3216.0</td>\n",
       "      <td>2670.0</td>\n",
       "      <td>2206.0</td>\n",
       "      <td>2262.0</td>\n",
       "    </tr>\n",
       "    <tr>\n",
       "      <th>2024</th>\n",
       "      <td>3872.0</td>\n",
       "      <td>3826.0</td>\n",
       "      <td>3336.0</td>\n",
       "      <td>2623.0</td>\n",
       "      <td>2268.0</td>\n",
       "      <td>2196.0</td>\n",
       "    </tr>\n",
       "    <tr>\n",
       "      <th>2025</th>\n",
       "      <td>3784.0</td>\n",
       "      <td>3757.0</td>\n",
       "      <td>3409.0</td>\n",
       "      <td>2744.0</td>\n",
       "      <td>2222.0</td>\n",
       "      <td>2259.0</td>\n",
       "    </tr>\n",
       "  </tbody>\n",
       "</table>\n",
       "</div>"
      ],
      "text/plain": [
       "age       20      21      22      23      24      25\n",
       "year                                                \n",
       "2020  3830.0  3647.0  3290.0  2610.0  2268.0  2173.0\n",
       "2021  3750.0  3681.0  3201.0  2676.0  2194.0  2240.0\n",
       "2022  3876.0  3639.0  3267.0  2610.0  2276.0  2185.0\n",
       "2023  3941.0  3753.0  3216.0  2670.0  2206.0  2262.0\n",
       "2024  3872.0  3826.0  3336.0  2623.0  2268.0  2196.0\n",
       "2025  3784.0  3757.0  3409.0  2744.0  2222.0  2259.0"
      ]
     },
     "execution_count": 6,
     "metadata": {},
     "output_type": "execute_result"
    }
   ],
   "source": [
    "# Pivot the data for stacked plotting\n",
    "dem_data_20_25_female_pivot = dem_data_20_25_female.pivot_table('femalepopulation', 'year', 'age')\n",
    "dem_data_20_25_female_pivot"
   ]
  },
  {
   "cell_type": "code",
   "execution_count": 8,
   "id": "4e38f542",
   "metadata": {},
   "outputs": [
    {
     "data": {
      "image/png": "[encoded data removed]",
      "text/plain": [
       "<Figure size 640x480 with 1 Axes>"
      ]
     },
     "metadata": {},
     "output_type": "display_data"
    }
   ],
   "source": [
    "# Plot the data in a bar plot\n",
    "my_colors = ['teal', 'aqua', 'darkturquoise', 'powderblue', 'aliceblue', 'lightgrey']\n",
    "f, ax = plt.subplots()\n",
    "dem_data_20_25_female_pivot.plot.bar(ax=ax,\n",
    "                                     color=my_colors,\n",
    "                                     stacked=True).legend(bbox_to_anchor=(1.2, 1), loc='upper right')\n",
    "ax.set(title='Female Population in Boulder, CO by Year')\n",
    "plt.show()\n",
    "                                                                      "
   ]
  }
 ],
 "metadata": {
  "kernelspec": {
   "display_name": "env",
   "language": "python",
   "name": "python3"
  },
  "language_info": {
   "codemirror_mode": {
    "name": "ipython",
    "version": 3
   },
   "file_extension": ".py",
   "mimetype": "text/x-python",
   "name": "python",
   "nbconvert_exporter": "python",
   "pygments_lexer": "ipython3",
   "version": "3.11.13"
  }
 },
 "nbformat": 4,
 "nbformat_minor": 5
}
