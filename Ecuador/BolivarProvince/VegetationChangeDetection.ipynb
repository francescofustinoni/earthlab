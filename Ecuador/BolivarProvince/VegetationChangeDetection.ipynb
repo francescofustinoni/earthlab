{
 "cells": [
  {
   "cell_type": "code",
   "execution_count": 7,
   "id": "df1f6904",
   "metadata": {},
   "outputs": [],
   "source": [
    "# Import packages\n",
    "import os\n",
    "import geopandas as gpd"
   ]
  },
  {
   "cell_type": "code",
   "execution_count": 8,
   "id": "fe893be6",
   "metadata": {},
   "outputs": [
    {
     "name": "stdout",
     "output_type": "stream",
     "text": [
      "Ecuador shp columns: Index(['id', 'name', 'source', 'geometry'], dtype='object')\n",
      "Ecuador shp first rows:\n"
     ]
    },
    {
     "data": {
      "text/html": [
       "<div>\n",
       "<style scoped>\n",
       "    .dataframe tbody tr th:only-of-type {\n",
       "        vertical-align: middle;\n",
       "    }\n",
       "\n",
       "    .dataframe tbody tr th {\n",
       "        vertical-align: top;\n",
       "    }\n",
       "\n",
       "    .dataframe thead th {\n",
       "        text-align: right;\n",
       "    }\n",
       "</style>\n",
       "<table border=\"1\" class=\"dataframe\">\n",
       "  <thead>\n",
       "    <tr style=\"text-align: right;\">\n",
       "      <th></th>\n",
       "      <th>id</th>\n",
       "      <th>name</th>\n",
       "      <th>source</th>\n",
       "      <th>geometry</th>\n",
       "    </tr>\n",
       "  </thead>\n",
       "  <tbody>\n",
       "    <tr>\n",
       "      <th>0</th>\n",
       "      <td>ECE</td>\n",
       "      <td>Esmeraldas</td>\n",
       "      <td>https://simplemaps.com</td>\n",
       "      <td>MULTIPOLYGON (((-78.47812 1.18712, -78.47831 1...</td>\n",
       "    </tr>\n",
       "    <tr>\n",
       "      <th>1</th>\n",
       "      <td>ECC</td>\n",
       "      <td>Carchi</td>\n",
       "      <td>https://simplemaps.com</td>\n",
       "      <td>POLYGON ((-78.44211 0.87194, -78.44714 0.87437...</td>\n",
       "    </tr>\n",
       "    <tr>\n",
       "      <th>2</th>\n",
       "      <td>ECU</td>\n",
       "      <td>Sucumbios</td>\n",
       "      <td>https://simplemaps.com</td>\n",
       "      <td>POLYGON ((-77.81408 0.34566, -77.79186 0.37099...</td>\n",
       "    </tr>\n",
       "    <tr>\n",
       "      <th>3</th>\n",
       "      <td>ECD</td>\n",
       "      <td>Orellana</td>\n",
       "      <td>https://simplemaps.com</td>\n",
       "      <td>POLYGON ((-77.29941 -0.05855, -77.28401 -0.047...</td>\n",
       "    </tr>\n",
       "    <tr>\n",
       "      <th>4</th>\n",
       "      <td>ECY</td>\n",
       "      <td>Pastaza</td>\n",
       "      <td>https://simplemaps.com</td>\n",
       "      <td>POLYGON ((-77.05165 -1.01038, -77.07198 -1.033...</td>\n",
       "    </tr>\n",
       "  </tbody>\n",
       "</table>\n",
       "</div>"
      ],
      "text/plain": [
       "    id        name                  source  \\\n",
       "0  ECE  Esmeraldas  https://simplemaps.com   \n",
       "1  ECC      Carchi  https://simplemaps.com   \n",
       "2  ECU   Sucumbios  https://simplemaps.com   \n",
       "3  ECD    Orellana  https://simplemaps.com   \n",
       "4  ECY     Pastaza  https://simplemaps.com   \n",
       "\n",
       "                                            geometry  \n",
       "0  MULTIPOLYGON (((-78.47812 1.18712, -78.47831 1...  \n",
       "1  POLYGON ((-78.44211 0.87194, -78.44714 0.87437...  \n",
       "2  POLYGON ((-77.81408 0.34566, -77.79186 0.37099...  \n",
       "3  POLYGON ((-77.29941 -0.05855, -77.28401 -0.047...  \n",
       "4  POLYGON ((-77.05165 -1.01038, -77.07198 -1.033...  "
      ]
     },
     "execution_count": 8,
     "metadata": {},
     "output_type": "execute_result"
    }
   ],
   "source": [
    "\n",
    "# Open shp Ecuador\n",
    "ecuador_shp_path = r\"C:\\Users\\Francesco\\Python\\earthlab\\Ecuador\\data\\ec_shp\\ec.shp\"\n",
    "ecuador_gdf = gpd.read_file(ecuador_shp_path)\n",
    "\n",
    "# Find Bolivar Province\n",
    "print('Ecuador shp columns:', ecuador_gdf.columns)\n",
    "print('Ecuador shp first rows:')\n",
    "ecuador_gdf.head()"
   ]
  },
  {
   "cell_type": "code",
   "execution_count": 5,
   "id": "38497e50",
   "metadata": {},
   "outputs": [
    {
     "name": "stdout",
     "output_type": "stream",
     "text": [
      "Bolivar geometry count: 1\n"
     ]
    },
    {
     "data": {
      "text/plain": [
       "<Axes: >"
      ]
     },
     "execution_count": 5,
     "metadata": {},
     "output_type": "execute_result"
    },
    {
     "data": {
      "image/png": "[encoded data removed]",
      "text/plain": [
       "<Figure size 640x480 with 1 Axes>"
      ]
     },
     "metadata": {},
     "output_type": "display_data"
    }
   ],
   "source": [
    "# Get the Bolivar province shp\n",
    "bolivar_gdf = ecuador_gdf[ecuador_gdf['name'].str.contains('Bolivar', case=False, na=False)]\n",
    "print('Bolivar geometry count:', len(bolivar_gdf))\n",
    "bolivar_gdf.plot()"
   ]
  },
  {
   "cell_type": "code",
   "execution_count": 6,
   "id": "ca5a4916",
   "metadata": {},
   "outputs": [
    {
     "name": "stdout",
     "output_type": "stream",
     "text": [
      "Saved bolivar.shp: C:\\Users\\Francesco\\Python\\earthlab\\Ecuador\\data\\Bolivar\\bolivar.shp\n"
     ]
    }
   ],
   "source": [
    "# Save Bolivar shp\n",
    "folder_path = r'C:\\Users\\Francesco\\Python\\earthlab\\Ecuador\\data\\Bolivar'\n",
    "os.makedirs(folder_path, exist_ok=True)\n",
    "out_path = os.path.join(folder_path, 'bolivar.shp')\n",
    "bolivar_gdf.to_file(out_path)\n",
    "print('Saved bolivar.shp:', out_path)"
   ]
  }
 ],
 "metadata": {
  "kernelspec": {
   "display_name": "env",
   "language": "python",
   "name": "python3"
  },
  "language_info": {
   "codemirror_mode": {
    "name": "ipython",
    "version": 3
   },
   "file_extension": ".py",
   "mimetype": "text/x-python",
   "name": "python",
   "nbconvert_exporter": "python",
   "pygments_lexer": "ipython3",
   "version": "3.11.13"
  }
 },
 "nbformat": 4,
 "nbformat_minor": 5
}
